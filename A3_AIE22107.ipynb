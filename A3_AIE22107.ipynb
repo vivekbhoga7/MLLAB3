{
  "nbformat": 4,
  "nbformat_minor": 0,
  "metadata": {
    "colab": {
      "provenance": []
    },
    "kernelspec": {
      "name": "python3",
      "display_name": "Python 3"
    },
    "language_info": {
      "name": "python"
    }
  },
  "cells": [
    {
      "cell_type": "markdown",
      "source": [
        "Working on Purchase Data:"
      ],
      "metadata": {
        "id": "dnUszkfWXqOd"
      }
    },
    {
      "cell_type": "code",
      "source": [
        "# import necessary libraries\n",
        "import pandas as pd\n",
        "import numpy as np\n",
        "import statistics\n",
        "import matplotlib.pyplot as plt"
      ],
      "metadata": {
        "id": "fATvo63rX0LS"
      },
      "execution_count": null,
      "outputs": []
    },
    {
      "cell_type": "code",
      "source": [
        "# Reading data into dataframes\n",
        "df = pd.read_excel('/content/drive/MyDrive/Datasets/Lab Session1 Data.xlsx', sheet_name = 'Purchase data', usecols = 'B:E')"
      ],
      "metadata": {
        "id": "XdY8rGBkYKGd"
      },
      "execution_count": null,
      "outputs": []
    },
    {
      "cell_type": "code",
      "source": [
        "A_columns = [\"Candies (#)\", \"Mangoes (Kg)\", \"Milk Packets (#)\"]\n",
        "matrix_A = df[A_columns].values\n",
        "\n",
        "C_columns = [\"Payment (Rs)\"]\n",
        "matrix_C = df[C_columns].values\n",
        "\n",
        "print(df)"
      ],
      "metadata": {
        "id": "Ah7r555AYLYf",
        "colab": {
          "base_uri": "https://localhost:8080/"
        },
        "outputId": "392bd04f-7e0a-46fa-94d3-3ca37e83a6f6"
      },
      "execution_count": null,
      "outputs": [
        {
          "output_type": "stream",
          "name": "stdout",
          "text": [
            "   Candies (#)  Mangoes (Kg)  Milk Packets (#)  Payment (Rs)\n",
            "0           20             6                 2           386\n",
            "1           16             3                 6           289\n",
            "2           27             6                 2           393\n",
            "3           19             1                 2           110\n",
            "4           24             4                 2           280\n",
            "5           22             1                 5           167\n",
            "6           15             4                 2           271\n",
            "7           18             4                 2           274\n",
            "8           21             1                 4           148\n",
            "9           16             2                 4           198\n"
          ]
        }
      ]
    },
    {
      "cell_type": "markdown",
      "source": [
        "Q1.\n",
        "What is the dimensionality of the vector space for this data?\n",
        "How many vectors exist in this vector space?\n",
        "What is the rank of Matrix A?\n",
        "Using Pseudo-Inverse find the cost of each product available for sale."
      ],
      "metadata": {
        "id": "Prgh-yLrYMyn"
      }
    },
    {
      "cell_type": "code",
      "source": [
        "# Dimensionality of A\n",
        "dimensionality_of_A = matrix_A.shape[1]\n",
        "print(f\"Dimensionality of the data is: {dimensionality_of_A}\")\n",
        "\n",
        "# Number of vectors in vector space of A\n",
        "num_vecs_A = matrix_A.shape[0]\n",
        "print(f\"Number of vectors in the vector space: {num_vecs_A}\")"
      ],
      "metadata": {
        "id": "iEm3PNqXYQGb",
        "colab": {
          "base_uri": "https://localhost:8080/"
        },
        "outputId": "27023392-fccd-46f5-ffa2-258b8f2c0062"
      },
      "execution_count": null,
      "outputs": [
        {
          "output_type": "stream",
          "name": "stdout",
          "text": [
            "Dimensionality of the data is: 3\n",
            "Number of vectors in the vector space: 10\n"
          ]
        }
      ]
    },
    {
      "cell_type": "code",
      "source": [
        "#  Rank of the matrix A\n",
        "rank_A = np.linalg.matrix_rank(matrix_A)\n",
        "print(f\"Rank of the matrix A: {rank_A}\")"
      ],
      "metadata": {
        "id": "2zIMMfBnYSXE",
        "colab": {
          "base_uri": "https://localhost:8080/"
        },
        "outputId": "2783ac25-5bc7-4453-d109-426f03568697"
      },
      "execution_count": null,
      "outputs": [
        {
          "output_type": "stream",
          "name": "stdout",
          "text": [
            "Rank of the matrix A: 3\n"
          ]
        }
      ]
    },
    {
      "cell_type": "markdown",
      "source": [
        "Q2. Use the Pseudo-inverse to calculate the model vector X for predicting the cost of the products available with the vendor.\n",
        "inv_A is a pseudoinverse\n",
        "A * X = C\n",
        "X = inv_A * C"
      ],
      "metadata": {
        "id": "YBh3uC98YUdK"
      }
    },
    {
      "cell_type": "code",
      "source": [
        "inv_A = np.linalg.pinv(matrix_A)\n",
        "print(inv_A)"
      ],
      "metadata": {
        "id": "mxNBEoHBYWG4",
        "colab": {
          "base_uri": "https://localhost:8080/"
        },
        "outputId": "2f907d1b-db36-4c7b-f49a-6075208a75bf"
      },
      "execution_count": null,
      "outputs": [
        {
          "output_type": "stream",
          "name": "stdout",
          "text": [
            "[[-0.01008596 -0.03124505  0.01013951  0.0290728   0.0182907   0.01161794\n",
            "  -0.00771348  0.00095458  0.01743623 -0.00542016]\n",
            " [ 0.09059668  0.07263726  0.03172933 -0.09071908 -0.01893196 -0.06926996\n",
            "   0.05675464  0.03152577 -0.07641966  0.00357352]\n",
            " [ 0.00299878  0.15874243 -0.05795468 -0.06609024 -0.06295043  0.03348017\n",
            "   0.01541831 -0.01070461  0.00029003  0.05938755]]\n"
          ]
        }
      ]
    },
    {
      "cell_type": "code",
      "source": [
        "# Model Vector X\n",
        "X = np.dot(inv_A, matrix_C)\n",
        "print(X)"
      ],
      "metadata": {
        "id": "ggrzwHw0YXXY",
        "colab": {
          "base_uri": "https://localhost:8080/"
        },
        "outputId": "dbf64e0d-037b-48da-eb41-4b78a03ff2c0"
      },
      "execution_count": null,
      "outputs": [
        {
          "output_type": "stream",
          "name": "stdout",
          "text": [
            "[[ 1.]\n",
            " [55.]\n",
            " [18.]]\n"
          ]
        }
      ]
    },
    {
      "cell_type": "markdown",
      "source": [
        "Q3. Marking all vectors with Payments more than 200 as RICH, and others as POOR"
      ],
      "metadata": {
        "id": "PM1j-L4WYa4j"
      }
    },
    {
      "cell_type": "code",
      "source": [
        "df['Customer_Type'] = df['Payment (Rs)'].apply(lambda x: 'RICH' if x > 200 else 'POOR')\n",
        "print(df)"
      ],
      "metadata": {
        "colab": {
          "base_uri": "https://localhost:8080/"
        },
        "id": "3dI3ScnknVPi",
        "outputId": "b0500587-34e1-4531-b9e0-f1e550399e3a"
      },
      "execution_count": null,
      "outputs": [
        {
          "output_type": "stream",
          "name": "stdout",
          "text": [
            "   Candies (#)  Mangoes (Kg)  Milk Packets (#)  Payment (Rs) Customer_Type\n",
            "0           20             6                 2           386          RICH\n",
            "1           16             3                 6           289          RICH\n",
            "2           27             6                 2           393          RICH\n",
            "3           19             1                 2           110          POOR\n",
            "4           24             4                 2           280          RICH\n",
            "5           22             1                 5           167          POOR\n",
            "6           15             4                 2           271          RICH\n",
            "7           18             4                 2           274          RICH\n",
            "8           21             1                 4           148          POOR\n",
            "9           16             2                 4           198          POOR\n"
          ]
        }
      ]
    },
    {
      "cell_type": "code",
      "source": [
        "def categorize_cust(purchase_data):\n",
        "  predicted_pay = np.dot(purchase_data, X)\n",
        "  if(predicted_pay > 200):\n",
        "    return \"RICH\"\n",
        "  else:\n",
        "    return \"POOR\"\n",
        "\n",
        "test = [20, 6, 2] # 18 Candies, 2 Mangoes, and 3 Milk packets\n",
        "print(categorize_cust(test))"
      ],
      "metadata": {
        "colab": {
          "base_uri": "https://localhost:8080/"
        },
        "id": "uLAE1PmD18rW",
        "outputId": "398887b1-c593-408f-cc31-aefda0e9a8b2"
      },
      "execution_count": null,
      "outputs": [
        {
          "output_type": "stream",
          "name": "stdout",
          "text": [
            "RICH\n"
          ]
        }
      ]
    },
    {
      "cell_type": "markdown",
      "source": [
        "Q4. IRCTC Stock Price"
      ],
      "metadata": {
        "id": "XTf_gYN55RBa"
      }
    },
    {
      "cell_type": "code",
      "source": [
        "df2 = pd.read_excel('/content/drive/MyDrive/Datasets/Lab Session1 Data.xlsx', sheet_name = 'IRCTC Stock Price', usecols= 'B:I')\n",
        "mean_stock_price = statistics.mean(df2['Price'])\n",
        "var_stock_price = statistics.variance(df2['Price'])\n",
        "print(f\"The mean and variance of the stock price is: {mean_stock_price}, {var_stock_price}\")\n",
        "print(df2)"
      ],
      "metadata": {
        "id": "L6UWaeGn5SBD",
        "colab": {
          "base_uri": "https://localhost:8080/"
        },
        "outputId": "79c54ad0-be0e-4566-a8f2-82ac6acf02e9"
      },
      "execution_count": null,
      "outputs": [
        {
          "output_type": "stream",
          "name": "stdout",
          "text": [
            "The mean and variance of the stock price is: 1560.663453815261, 58732.365352539186\n",
            "    Month  Day    Price     Open     High      Low   Volume    Chg%\n",
            "0     Jun  Tue  2081.85  2092.00  2126.90  2065.05    1.67M  0.0020\n",
            "1     Jun  Mon  2077.75  2084.00  2112.45  2068.40  707.73K  0.0043\n",
            "2     Jun  Fri  2068.85  2084.35  2088.50  2053.10  475.82K -0.0020\n",
            "3     Jun  Thu  2072.95  2098.00  2098.00  2066.00  541.51K -0.0026\n",
            "4     Jun  Wed  2078.25  2102.00  2111.40  2072.00  809.62K -0.0023\n",
            "..    ...  ...      ...      ...      ...      ...      ...     ...\n",
            "244   Jul  Tue  1397.40  1410.00  1411.00  1390.05  480.21K -0.0024\n",
            "245   Jul  Mon  1400.75  1405.50  1415.50  1394.00  614.93K -0.0031\n",
            "246   Jul  Fri  1405.10  1415.00  1425.00  1398.00  599.49K -0.0051\n",
            "247   Jul  Thu  1412.35  1440.00  1467.80  1395.30    2.16M  0.0362\n",
            "248   Jul  Wed  1363.05  1363.65  1377.00  1356.00  383.00K  0.0032\n",
            "\n",
            "[249 rows x 8 columns]\n"
          ]
        }
      ]
    },
    {
      "cell_type": "markdown",
      "source": [
        "Price data for all the Wednesdays"
      ],
      "metadata": {
        "id": "HHC-FVhYB-LX"
      }
    },
    {
      "cell_type": "code",
      "source": [
        "wed_data = df2[df2['Day'] == 'Wed']\n",
        "sample_mean_wed = statistics.mean(wed_data['Price'])\n",
        "print(f\"Comparing mean price and wednesday mean price: {mean_stock_price}, {sample_mean_wed}\")"
      ],
      "metadata": {
        "colab": {
          "base_uri": "https://localhost:8080/"
        },
        "id": "2GsZB1hwgopz",
        "outputId": "16c206be-db0e-4ead-afaa-abb4ef8f9762"
      },
      "execution_count": null,
      "outputs": [
        {
          "output_type": "stream",
          "name": "stdout",
          "text": [
            "Comparing mean price and wednesday mean price: 1560.663453815261, 1550.706\n"
          ]
        }
      ]
    },
    {
      "cell_type": "markdown",
      "source": [
        "Price data for month of April"
      ],
      "metadata": {
        "id": "klfLBVegDZ5g"
      }
    },
    {
      "cell_type": "code",
      "source": [
        "april_data = df2[df2['Month'] == 'Apr']\n",
        "sample_mean_april = statistics.mean(april_data['Price'])\n",
        "print(f\"Comparing Mean price and April mean price: {mean_stock_price}, {sample_mean_april}\")"
      ],
      "metadata": {
        "colab": {
          "base_uri": "https://localhost:8080/"
        },
        "id": "VNtZTZhVgs1l",
        "outputId": "9a910e30-f62d-4c7e-f653-64c815285a28"
      },
      "execution_count": null,
      "outputs": [
        {
          "output_type": "stream",
          "name": "stdout",
          "text": [
            "Comparing Mean price and April mean price: 1560.663453815261, 1698.9526315789474\n"
          ]
        }
      ]
    },
    {
      "cell_type": "markdown",
      "source": [
        "Probability of making a loss"
      ],
      "metadata": {
        "id": "RA_GMZepFvCe"
      }
    },
    {
      "cell_type": "code",
      "source": [
        "loss_probability = df2['Chg%'].apply(lambda x: 1 if x < 0 else 0).mean()\n",
        "print(f\"Probability of making a loss: {loss_probability}\")"
      ],
      "metadata": {
        "id": "jOWRTFajF17n",
        "colab": {
          "base_uri": "https://localhost:8080/"
        },
        "outputId": "340c65f2-d18c-4ab8-b529-03a93f4fea2b"
      },
      "execution_count": null,
      "outputs": [
        {
          "output_type": "stream",
          "name": "stdout",
          "text": [
            "Probability of making a loss: 0.4979919678714859\n"
          ]
        }
      ]
    },
    {
      "cell_type": "markdown",
      "source": [
        "Calculate the probability of making a profit on Wednesday."
      ],
      "metadata": {
        "id": "mBtOgjhvrQHl"
      }
    },
    {
      "cell_type": "code",
      "source": [
        "profit_wed_prob = len(wed_data[wed_data['Chg%'] > 0]) / len(wed_data)\n",
        "print(f\"Probability of making a profit on Wednesday: {profit_wed_prob}\")\n",
        "\n",
        "cond_profit_prob = len(wed_data[wed_data['Chg%'] > 0]) / len(wed_data)\n",
        "print(f\"Conditional probability of making profit on Wednesday: {cond_profit_prob}\")\n",
        "\n",
        "plt.scatter(df2['Day'], df2['Chg%'])\n",
        "plt.xlabel('Day of the Week')\n",
        "plt.ylabel('Chg%')\n",
        "plt.title('Scatter Plot of Chg% vs Day of the Week')\n",
        "plt.show()"
      ],
      "metadata": {
        "colab": {
          "base_uri": "https://localhost:8080/",
          "height": 507
        },
        "id": "2_r95OPxrQyX",
        "outputId": "58d3d51c-59d4-4c63-ecc6-18d9384cd687"
      },
      "execution_count": null,
      "outputs": [
        {
          "output_type": "stream",
          "name": "stdout",
          "text": [
            "Probability of making a profit on Wednesday: 0.42\n",
            "Conditional probability of making profit on Wednesday: 0.42\n"
          ]
        },
        {
          "output_type": "display_data",
          "data": {
            "text/plain": [
              "<Figure size 640x480 with 1 Axes>"
            ],
            "image/png": "[encoded data removed]"
          },
          "metadata": {}
        }
      ]
    }
  ]
}